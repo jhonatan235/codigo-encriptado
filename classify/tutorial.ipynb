{
  "cells": [
    {
      "cell_type": "code",
      "source": [
        "# Si la sesión se reinicia, EJECUTA SOLO ESTO:\n",
        "from google.colab import drive\n",
        "drive.mount('/content/drive', force_remount=True)\n",
        "%cd /content/drive/MyDrive/Yolov5_proyecto/yolov5"
      ],
      "metadata": {
        "colab": {
          "base_uri": "https://localhost:8080/"
        },
        "id": "hiyxBH8ncRQX",
        "outputId": "d27317e2-9214-4939-be68-132a84225f23"
      },
      "execution_count": 1,
      "outputs": [
        {
          "output_type": "stream",
          "name": "stdout",
          "text": [
            "Mounted at /content/drive\n",
            "/content/drive/MyDrive/Yolov5_proyecto/yolov5\n"
          ]
        }
      ]
    },
    {
      "cell_type": "code",
      "source": [
        "from google.colab import drive\n",
        "drive.mount('/content/drive')"
      ],
      "metadata": {
        "colab": {
          "base_uri": "https://localhost:8080/"
        },
        "id": "OHUG5q0JPfeX",
        "outputId": "98ee01af-75b1-464f-868a-5480183e254e"
      },
      "execution_count": 1,
      "outputs": [
        {
          "output_type": "stream",
          "name": "stdout",
          "text": [
            "Mounted at /content/drive\n"
          ]
        }
      ]
    },
    {
      "cell_type": "code",
      "source": [
        "import os\n",
        "\n",
        "# Ruta personalizada en Drive (¡cambia esto!)\n",
        "Yolov5_Proyecto = \"/content/drive/MyDrive/Yolov5_proyecto\"\n",
        "\n",
        "# Crear carpeta si no existe\n",
        "os.makedirs(Yolov5_Proyecto, exist_ok=True)\n",
        "\n",
        "# Cambiar directorio de trabajo\n",
        "os.chdir(Yolov5_Proyecto)\n",
        "print(f\"Directorio actual: {os.getcwd()}\")"
      ],
      "metadata": {
        "colab": {
          "base_uri": "https://localhost:8080/"
        },
        "id": "D-Rmgn6vZYHS",
        "outputId": "52e84286-2ddd-4fbc-d5a8-ff4f274914be"
      },
      "execution_count": 3,
      "outputs": [
        {
          "output_type": "stream",
          "name": "stdout",
          "text": [
            "Directorio actual: /content/drive/MyDrive/Yolov5_proyecto\n"
          ]
        }
      ]
    },
    {
      "cell_type": "code",
      "source": [
        "import sys\n",
        "import tempfile\n",
        "\n",
        "# Configurar tempfile para usar Drive\n",
        "tempfile.tempdir = Yolov5_Proyecto + \"/temp\"\n",
        "os.makedirs(tempfile.tempdir, exist_ok=True)\n",
        "\n"
      ],
      "metadata": {
        "id": "01mPBjMmaBpi"
      },
      "execution_count": 4,
      "outputs": []
    },
    {
      "cell_type": "markdown",
      "metadata": {
        "id": "7mGmQbAO5pQb"
      },
      "source": [
        "# Setup\n",
        "\n",
        "Clone GitHub [repository](https://github.com/ultralytics/yolov5), install [dependencies](https://github.com/ultralytics/yolov5/blob/master/requirements.txt) and check PyTorch and GPU."
      ]
    },
    {
      "cell_type": "code",
      "metadata": {
        "id": "wbvMlHd_QwMG"
      },
      "source": [
        "# Montar Google Drive en la ruta específica\n",
        "from google.colab import drive\n",
        "drive.mount('/content/drive')\n",
        "\n",
        "# Crear y cambiar a la carpeta del proyecto en Drive\n",
        "import os\n",
        "PROJECT_PATH = '/content/drive/MyDrive/Yolov5_proyecto'\n",
        "os.makedirs(PROJECT_PATH, exist_ok=True)\n",
        "%cd {PROJECT_PATH}\n",
        "\n",
        "# Clonar repositorio dentro de la carpeta del proyecto\n",
        "!git clone https://github.com/ultralytics/yolov5\n",
        "\n",
        "# Cambiar al directorio de yolov5\n",
        "%cd yolov5\n",
        "\n",
        "# Instalar dependencias\n",
        "%pip install -qr requirements.txt\n",
        "\n",
        "# Configurar variables de entorno para guardar todo en Drive\n",
        "import sys\n",
        "import tempfile\n",
        "\n",
        "# 1. Redirigir todos los archivos temporales\n",
        "os.environ['TMPDIR'] = f\"{PROJECT_PATH}/temp\"\n",
        "os.makedirs(os.environ['TMPDIR'], exist_ok=True)\n",
        "tempfile.tempdir = os.environ['TMPDIR']\n",
        "\n",
        "# 2. Forzar a torch a guardar checkpoints en Drive\n",
        "os.environ['TORCH_HOME'] = f\"{PROJECT_PATH}/torch_cache\"\n",
        "os.makedirs(os.environ['TORCH_HOME'], exist_ok=True)\n",
        "\n",
        "# 3. Redirigir stdout/stderr a archivos en Drive\n",
        "sys.stdout = open(f\"{PROJECT_PATH}/output.log\", \"a\")\n",
        "sys.stderr = open(f\"{PROJECT_PATH}/errors.log\", \"a\")\n",
        "\n",
        "# Inicializar YOLOv5 (todo se guardará automáticamente en Drive)\n",
        "import torch\n",
        "import utils\n",
        "\n",
        "display = utils.notebook_init()\n",
        "print(f\"\\n⚠️ Todos los archivos se guardarán en: {PROJECT_PATH}\")"
      ],
      "execution_count": 2,
      "outputs": []
    },
    {
      "cell_type": "code",
      "source": [
        "!unzip -q /content/drive/MyDrive/Yolov5_proyecto/datasets/armas.zip -d /content/drive/MyDrive/Yolov5_proyecto/datasets"
      ],
      "metadata": {
        "id": "kyB1ZfWdll_m"
      },
      "execution_count": 3,
      "outputs": []
    },
    {
      "cell_type": "code",
      "source": [
        "import os\n",
        "\n",
        "# Ruta base del dataset\n",
        "dataset_path = '/content/drive/MyDrive/Yolov5_proyecto/datasets/armas'\n",
        "\n",
        "# 1. Verificar existencia de carpetas principales\n",
        "required_dirs = ['train/images', 'train/labels', 'valid/images', 'valid/labels']\n",
        "all_dirs_exist = True\n",
        "\n",
        "for dir in required_dirs:\n",
        "    full_path = os.path.join(dataset_path, dir)\n",
        "    if not os.path.exists(full_path):\n",
        "        print(f\"❌ Falta directorio: {dir}\")\n",
        "        all_dirs_exist = False\n",
        "\n",
        "if all_dirs_exist:\n",
        "    print(\"✅ Todas las carpetas principales existen\")\n",
        "\n",
        "    # 2. Contar archivos\n",
        "    print(\"\\n📊 Conteo de archivos:\")\n",
        "    for dir in required_dirs:\n",
        "        full_path = os.path.join(dataset_path, dir)\n",
        "        file_count = len(os.listdir(full_path))\n",
        "        print(f\"{dir}: {file_count} archivos\")\n",
        "\n",
        "    # 3. Verificar correspondencia imágenes-etiquetas\n",
        "    train_images = set(os.listdir(os.path.join(dataset_path, 'train/images')))\n",
        "    train_labels = set([f.replace('.jpg', '.txt').replace('.png', '.txt') for f in train_images])\n",
        "    actual_labels = set(os.listdir(os.path.join(dataset_path, 'train/labels')))\n",
        "\n",
        "    missing = train_labels - actual_labels\n",
        "    if missing:\n",
        "        print(f\"\\n❌ Faltan {len(missing)} etiquetas en train/labels\")\n",
        "    else:\n",
        "        print(\"\\n✅ Todas las imágenes de entrenamiento tienen etiquetas correspondientes\")\n",
        "\n",
        "else:\n",
        "    print(\"\\n⚠️ Verifica la estructura del ZIP. Faltan directorios críticos\")"
      ],
      "metadata": {
        "id": "okUX1uXssySF",
        "outputId": "a331d47a-391d-42b9-9212-c5ea952539c9",
        "colab": {
          "base_uri": "https://localhost:8080/"
        }
      },
      "execution_count": 5,
      "outputs": [
        {
          "output_type": "stream",
          "name": "stdout",
          "text": [
            "✅ Todas las carpetas principales existen\n",
            "\n",
            "📊 Conteo de archivos:\n",
            "train/images: 3200 archivos\n",
            "train/labels: 3200 archivos\n",
            "valid/images: 800 archivos\n",
            "valid/labels: 800 archivos\n",
            "\n",
            "✅ Todas las imágenes de entrenamiento tienen etiquetas correspondientes\n"
          ]
        }
      ]
    },
    {
      "cell_type": "code",
      "source": [
        "!python train.py \\\n",
        "    --img 640 \\\n",
        "    --batch 16 \\\n",
        "    --epochs 50 \\\n",
        "    --data /content/drive/MyDrive/Yolov5_proyecto/archivo.yaml \\\n",
        "    --weights yolov5s.pt \\\n",
        "    --project /content/drive/MyDrive/Yolov5_proyecto/results"
      ],
      "metadata": {
        "id": "Jm_Uv8EvupsX"
      },
      "execution_count": null,
      "outputs": []
    },
    {
      "cell_type": "markdown",
      "metadata": {
        "id": "15glLzbQx5u0"
      },
      "source": [
        "# 4. Visualize"
      ]
    },
    {
      "cell_type": "markdown",
      "metadata": {
        "id": "nWOsI5wJR1o3"
      },
      "source": [
        "## Comet Logging and Visualization 🌟 NEW\n",
        "\n",
        "[Comet](https://www.comet.com/site/lp/yolov5-with-comet/?utm_source=yolov5&utm_medium=partner&utm_campaign=partner_yolov5_2022&utm_content=yolov5_colab) is now fully integrated with YOLOv5. Track and visualize model metrics in real time, save your hyperparameters, datasets, and model checkpoints, and visualize your model predictions with [Comet Custom Panels](https://www.comet.com/docs/v2/guides/comet-dashboard/code-panels/about-panels/?utm_source=yolov5&utm_medium=partner&utm_campaign=partner_yolov5_2022&utm_content=yolov5_colab)! Comet makes sure you never lose track of your work and makes it easy to share results and collaborate across teams of all sizes!\n",
        "\n",
        "Getting started is easy:\n",
        "```shell\n",
        "pip install comet_ml  # 1. install\n",
        "export COMET_API_KEY=<Your API Key>  # 2. paste API key\n",
        "python train.py --img 640 --epochs 3 --data coco128.yaml --weights yolov5s.pt  # 3. train\n",
        "```\n",
        "To learn more about all of the supported Comet features for this integration, check out the [Comet Tutorial](https://docs.ultralytics.com/yolov5/tutorials/comet_logging_integration). If you'd like to learn more about Comet, head over to our [documentation](https://www.comet.com/docs/v2/?utm_source=yolov5&utm_medium=partner&utm_campaign=partner_yolov5_2022&utm_content=yolov5_colab). Get started by trying out the Comet Colab Notebook:\n",
        "[![Open In Colab](https://colab.research.google.com/assets/colab-badge.svg)](https://colab.research.google.com/drive/1RG0WOQyxlDlo5Km8GogJpIEJlg_5lyYO?usp=sharing)\n",
        "\n",
        "<a href=\"https://bit.ly/yolov5-readme-comet2\">\n",
        "<img alt=\"Comet Dashboard\" src=\"https://user-images.githubusercontent.com/26833433/202851203-164e94e1-2238-46dd-91f8-de020e9d6b41.png\" width=\"1280\"/></a>"
      ]
    },
    {
      "cell_type": "markdown",
      "metadata": {
        "id": "Lay2WsTjNJzP"
      },
      "source": [
        "## ClearML Logging and Automation 🌟 NEW\n",
        "\n",
        "[ClearML](https://cutt.ly/yolov5-notebook-clearml) is completely integrated into YOLOv5 to track your experimentation, manage dataset versions and even remotely execute training runs. To enable ClearML (check cells above):\n",
        "\n",
        "- `pip install clearml`\n",
        "- run `clearml-init` to connect to a ClearML server (**deploy your own [open-source server](https://github.com/allegroai/clearml-server)**, or use our [free hosted server](https://cutt.ly/yolov5-notebook-clearml))\n",
        "\n",
        "You'll get all the great expected features from an experiment manager: live updates, model upload, experiment comparison etc. but ClearML also tracks uncommitted changes and installed packages for example. Thanks to that ClearML Tasks (which is what we call experiments) are also reproducible on different machines! With only 1 extra line, we can schedule a YOLOv5 training task on a queue to be executed by any number of ClearML Agents (workers).\n",
        "\n",
        "You can use ClearML Data to version your dataset and then pass it to YOLOv5 simply using its unique ID. This will help you keep track of your data without adding extra hassle. Explore the [ClearML Tutorial](https://docs.ultralytics.com/yolov5/tutorials/clearml_logging_integration) for details!\n",
        "\n",
        "<a href=\"https://cutt.ly/yolov5-notebook-clearml\">\n",
        "<img alt=\"ClearML Experiment Management UI\" src=\"https://github.com/thepycoder/clearml_screenshots/raw/main/scalars.jpg\" width=\"1280\"/></a>"
      ]
    },
    {
      "cell_type": "markdown",
      "metadata": {
        "id": "-WPvRbS5Swl6"
      },
      "source": [
        "## Local Logging\n",
        "\n",
        "Training results are automatically logged with [Tensorboard](https://www.tensorflow.org/tensorboard) and [CSV](https://github.com/ultralytics/yolov5/pull/4148) loggers to `runs/train`, with a new experiment directory created for each new training as `runs/train/exp2`, `runs/train/exp3`, etc.\n",
        "\n",
        "This directory contains train and val statistics, mosaics, labels, predictions and augmentated mosaics, as well as metrics and charts including precision-recall (PR) curves and confusion matrices.\n",
        "\n",
        "<img alt=\"Local logging results\" src=\"https://user-images.githubusercontent.com/26833433/183222430-e1abd1b7-782c-4cde-b04d-ad52926bf818.jpg\" width=\"1280\"/>\n"
      ]
    },
    {
      "cell_type": "markdown",
      "metadata": {
        "id": "Zelyeqbyt3GD"
      },
      "source": [
        "# Environments\n",
        "\n",
        "YOLOv5 may be run in any of the following up-to-date verified environments (with all dependencies including [CUDA](https://developer.nvidia.com/cuda)/[CUDNN](https://developer.nvidia.com/cudnn), [Python](https://www.python.org/) and [PyTorch](https://pytorch.org/) preinstalled):\n",
        "\n",
        "- **Notebooks** with free GPU: <a href=\"https://bit.ly/yolov5-paperspace-notebook\"><img src=\"https://assets.paperspace.io/img/gradient-badge.svg\" alt=\"Run on Gradient\"></a> <a href=\"https://colab.research.google.com/github/ultralytics/yolov5/blob/master/tutorial.ipynb\"><img src=\"https://colab.research.google.com/assets/colab-badge.svg\" alt=\"Open In Colab\"></a> <a href=\"https://www.kaggle.com/models/ultralytics/yolov5\"><img src=\"https://kaggle.com/static/images/open-in-kaggle.svg\" alt=\"Open In Kaggle\"></a>\n",
        "- **Google Cloud** Deep Learning VM. See [GCP Quickstart Guide](https://docs.ultralytics.com/yolov5/environments/google_cloud_quickstart_tutorial/)\n",
        "- **Amazon** Deep Learning AMI. See [AWS Quickstart Guide](https://docs.ultralytics.com/yolov5/environments/aws_quickstart_tutorial/)\n",
        "- **Docker Image**. See [Docker Quickstart Guide](https://docs.ultralytics.com/yolov5/environments/docker_image_quickstart_tutorial/) <a href=\"https://hub.docker.com/r/ultralytics/yolov5\"><img src=\"https://img.shields.io/docker/pulls/ultralytics/yolov5?logo=docker\" alt=\"Docker Pulls\"></a>\n"
      ]
    },
    {
      "cell_type": "markdown",
      "metadata": {
        "id": "6Qu7Iesl0p54"
      },
      "source": [
        "# Status\n",
        "\n",
        "![YOLOv5 CI](https://github.com/ultralytics/yolov5/actions/workflows/ci-testing.yml/badge.svg)\n",
        "\n",
        "If this badge is green, all [YOLOv5 GitHub Actions](https://github.com/ultralytics/yolov5/actions) Continuous Integration (CI) tests are currently passing. CI tests verify correct operation of YOLOv5 training ([train.py](https://github.com/ultralytics/yolov5/blob/master/train.py)), testing ([val.py](https://github.com/ultralytics/yolov5/blob/master/val.py)), inference ([detect.py](https://github.com/ultralytics/yolov5/blob/master/detect.py)) and export ([export.py](https://github.com/ultralytics/yolov5/blob/master/export.py)) on macOS, Windows, and Ubuntu every 24 hours and on every commit.\n"
      ]
    },
    {
      "cell_type": "markdown",
      "metadata": {
        "id": "IEijrePND_2I"
      },
      "source": [
        "# Appendix\n",
        "\n",
        "Additional content below."
      ]
    },
    {
      "cell_type": "code",
      "execution_count": null,
      "metadata": {
        "id": "GMusP4OAxFu6"
      },
      "outputs": [],
      "source": [
        "# YOLOv5 PyTorch HUB Inference (DetectionModels only)\n",
        "\n",
        "model = torch.hub.load(\n",
        "    \"ultralytics/yolov5\", \"yolov5s\", force_reload=True, trust_repo=True\n",
        ")  # or yolov5n - yolov5x6 or custom\n",
        "im = \"https://ultralytics.com/images/zidane.jpg\"  # file, Path, PIL.Image, OpenCV, nparray, list\n",
        "results = model(im)  # inference\n",
        "results.print()  # or .show(), .save(), .crop(), .pandas(), etc."
      ]
    }
  ],
  "metadata": {
    "accelerator": "GPU",
    "colab": {
      "name": "YOLOv5 Classification Tutorial",
      "provenance": [],
      "machine_shape": "hm",
      "gpuType": "A100"
    },
    "kernelspec": {
      "display_name": "Python 3",
      "name": "python3"
    },
    "language_info": {
      "codemirror_mode": {
        "name": "ipython",
        "version": 3
      },
      "file_extension": ".py",
      "mimetype": "text/x-python",
      "name": "python",
      "nbconvert_exporter": "python",
      "pygments_lexer": "ipython3",
      "version": "3.7.12"
    }
  },
  "nbformat": 4,
  "nbformat_minor": 0
}